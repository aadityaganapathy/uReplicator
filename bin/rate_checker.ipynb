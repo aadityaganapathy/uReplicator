{
 "cells": [
  {
   "cell_type": "code",
   "execution_count": 1,
   "metadata": {},
   "outputs": [],
   "source": [
    "# from MyKafkaWorker import MyKafkaWorker\n",
    "import MyKafkaWorker\n",
    "import importlib\n",
    "importlib.reload(MyKafkaWorker)\n",
    "import MyKafka\n",
    "from MyKafka import UConnector\n",
    "importlib.reload(UConnector)\n",
    "import time\n",
    "\n",
    "\n",
    "# worker = MyKafkaWorker.MyKafkaWorker('testTopic1000')"
   ]
  },
  {
   "cell_type": "code",
   "execution_count": 2,
   "metadata": {},
   "outputs": [],
   "source": [
    "connector = UConnector.UConnector('../output')\n",
    "u_zoo = connector.init_zoo()\n",
    "u_zoo.start_zookeeper()"
   ]
  },
  {
   "cell_type": "code",
   "execution_count": 3,
   "metadata": {},
   "outputs": [
    {
     "name": "stderr",
     "output_type": "stream",
     "text": [
      "Connection dropped: socket connection broken\n",
      "Transition to CONNECTING\n",
      "Connection dropped: socket connection broken\n",
      "Transition to CONNECTING\n"
     ]
    },
    {
     "name": "stdout",
     "output_type": "stream",
     "text": [
      "Session Disconnected!\n"
     ]
    },
    {
     "name": "stderr",
     "output_type": "stream",
     "text": [
      "Session has expired\n",
      "Connection dropped: socket connection broken\n"
     ]
    },
    {
     "name": "stdout",
     "output_type": "stream",
     "text": [
      "Session Disconnected!\n",
      "Connection Lost!\n"
     ]
    },
    {
     "name": "stderr",
     "output_type": "stream",
     "text": [
      "Transition to CONNECTING\n",
      "Session has expired\n"
     ]
    },
    {
     "name": "stdout",
     "output_type": "stream",
     "text": [
      "Session Disconnected!\n",
      "Connection Lost!\n",
      "Connected!\n"
     ]
    },
    {
     "name": "stderr",
     "output_type": "stream",
     "text": [
      "Session has expired\n"
     ]
    },
    {
     "name": "stdout",
     "output_type": "stream",
     "text": [
      "Connected!\n",
      "Connection Lost!\n",
      "Connected!\n"
     ]
    },
    {
     "name": "stderr",
     "output_type": "stream",
     "text": [
      "Connection dropped: socket connection broken\n",
      "Transition to CONNECTING\n"
     ]
    },
    {
     "name": "stdout",
     "output_type": "stream",
     "text": [
      "Session Disconnected!\n"
     ]
    },
    {
     "name": "stderr",
     "output_type": "stream",
     "text": [
      "Session has expired\n"
     ]
    },
    {
     "name": "stdout",
     "output_type": "stream",
     "text": [
      "Connection Lost!\n",
      "Connected!\n"
     ]
    },
    {
     "name": "stderr",
     "output_type": "stream",
     "text": [
      "Connection dropped: socket connection broken\n",
      "Transition to CONNECTING\n",
      "Connection dropped: socket connection broken\n",
      "Transition to CONNECTING\n",
      "Connection dropped: socket connection broken\n",
      "Transition to CONNECTING\n",
      "Session has expired\n"
     ]
    },
    {
     "name": "stdout",
     "output_type": "stream",
     "text": [
      "Session Disconnected!\n",
      "Session Disconnected!\n",
      "Session Disconnected!\n",
      "Connection Lost!\n"
     ]
    },
    {
     "name": "stderr",
     "output_type": "stream",
     "text": [
      "Session has expired\n",
      "Session has expired\n"
     ]
    },
    {
     "name": "stdout",
     "output_type": "stream",
     "text": [
      "Connection Lost!\n",
      "Connection Lost!\n",
      "Connected!\n",
      "Connected!\n",
      "Connected!\n"
     ]
    },
    {
     "name": "stderr",
     "output_type": "stream",
     "text": [
      "Connection dropped: socket connection broken\n",
      "Transition to CONNECTING\n",
      "Session has expired\n"
     ]
    },
    {
     "name": "stdout",
     "output_type": "stream",
     "text": [
      "Session Disconnected!\n"
     ]
    },
    {
     "name": "stderr",
     "output_type": "stream",
     "text": [
      "Connection dropped: socket connection broken\n",
      "Transition to CONNECTING\n",
      "Connection dropped: socket connection broken\n",
      "Transition to CONNECTING\n"
     ]
    },
    {
     "name": "stdout",
     "output_type": "stream",
     "text": [
      "Connection Lost!\n",
      "Session Disconnected!\n",
      "Session Disconnected!\n"
     ]
    },
    {
     "name": "stderr",
     "output_type": "stream",
     "text": [
      "Session has expired\n"
     ]
    },
    {
     "name": "stdout",
     "output_type": "stream",
     "text": [
      "Connection Lost!\n",
      "Connected!\n"
     ]
    },
    {
     "name": "stderr",
     "output_type": "stream",
     "text": [
      "Session has expired\n"
     ]
    },
    {
     "name": "stdout",
     "output_type": "stream",
     "text": [
      "Connection Lost!\n",
      "Connected!\n",
      "Connected!\n"
     ]
    },
    {
     "name": "stderr",
     "output_type": "stream",
     "text": [
      "Connection dropped: socket connection broken\n",
      "Transition to CONNECTING\n",
      "Connection dropped: socket connection broken\n",
      "Transition to CONNECTING\n",
      "Session has expired\n"
     ]
    },
    {
     "name": "stdout",
     "output_type": "stream",
     "text": [
      "Session Disconnected!\n",
      "Session Disconnected!\n",
      "Connection Lost!\n"
     ]
    },
    {
     "name": "stderr",
     "output_type": "stream",
     "text": [
      "Session has expired\n"
     ]
    },
    {
     "name": "stdout",
     "output_type": "stream",
     "text": [
      "Connection Lost!\n",
      "Connected!\n",
      "Connected!\n"
     ]
    },
    {
     "name": "stderr",
     "output_type": "stream",
     "text": [
      "Connection dropped: socket connection broken\n",
      "Transition to CONNECTING\n",
      "Connection dropped: socket connection broken\n",
      "Transition to CONNECTING\n",
      "Session has expired\n",
      "Connection dropped: socket connection broken\n"
     ]
    },
    {
     "name": "stdout",
     "output_type": "stream",
     "text": [
      "Session Disconnected!\n",
      "Session Disconnected!\n",
      "Connection Lost!\n"
     ]
    },
    {
     "name": "stderr",
     "output_type": "stream",
     "text": [
      "Transition to CONNECTING\n"
     ]
    },
    {
     "name": "stdout",
     "output_type": "stream",
     "text": [
      "Session Disconnected!\n"
     ]
    },
    {
     "name": "stderr",
     "output_type": "stream",
     "text": [
      "Session has expired\n",
      "Session has expired\n"
     ]
    },
    {
     "name": "stdout",
     "output_type": "stream",
     "text": [
      "Connected!\n",
      "Connection Lost!\n",
      "Connection Lost!\n",
      "Connected!\n",
      "Connected!\n"
     ]
    },
    {
     "name": "stderr",
     "output_type": "stream",
     "text": [
      "Connection dropped: socket connection broken\n",
      "Transition to CONNECTING\n",
      "Connection dropped: socket connection broken\n",
      "Transition to CONNECTING\n",
      "Connection dropped: socket connection broken\n",
      "Transition to CONNECTING\n"
     ]
    },
    {
     "name": "stdout",
     "output_type": "stream",
     "text": [
      "Session Disconnected!\n",
      "Session Disconnected!\n",
      "Session Disconnected!\n"
     ]
    },
    {
     "name": "stderr",
     "output_type": "stream",
     "text": [
      "Connection dropped: socket connection error: Connection refused\n",
      "Connection dropped: socket connection error: Connection refused\n",
      "Connection dropped: socket connection error: Connection refused\n",
      "Connection dropped: socket connection error: Connection refused\n",
      "Connection dropped: socket connection error: Connection refused\n",
      "Connection dropped: socket connection error: Connection refused\n",
      "Connection dropped: socket connection error: Connection refused\n",
      "Connection dropped: socket connection error: Connection refused\n",
      "Connection dropped: socket connection error: Connection refused\n",
      "Connection dropped: socket connection error: Connection refused\n",
      "Connection dropped: socket connection error: Connection refused\n",
      "Connection dropped: socket connection error: Connection refused\n",
      "Connection dropped: socket connection error: Connection refused\n",
      "Connection dropped: socket connection error: Connection refused\n",
      "Connection dropped: socket connection error: Connection refused\n",
      "Connection dropped: socket connection error: Connection refused\n",
      "Connection dropped: socket connection error: Connection refused\n",
      "Connection dropped: socket connection error: Connection refused\n",
      "Connection dropped: socket connection error: Connection refused\n",
      "Connection dropped: socket connection error: Connection refused\n",
      "Connection dropped: socket connection error: Connection refused\n",
      "Connection dropped: socket connection error: Connection refused\n",
      "Connection dropped: socket connection error: Connection refused\n",
      "Connection dropped: socket connection error: Connection refused\n",
      "Connection dropped: socket connection error: Connection refused\n",
      "Connection dropped: socket connection error: Connection refused\n",
      "Connection dropped: socket connection error: Connection refused\n",
      "Connection dropped: socket connection error: Connection refused\n",
      "Connection dropped: socket connection error: Connection refused\n",
      "Connection dropped: socket connection error: Connection refused\n",
      "Connection dropped: socket connection error: Connection refused\n",
      "Connection dropped: socket connection error: Connection refused\n",
      "Connection dropped: socket connection error: Connection refused\n",
      "Connection dropped: socket connection error: Connection refused\n",
      "Connection dropped: socket connection error: Connection refused\n",
      "Connection dropped: socket connection error: Connection refused\n",
      "Connection dropped: socket connection error: Connection refused\n",
      "Connection dropped: socket connection error: Connection refused\n",
      "Connection dropped: socket connection error: Connection refused\n",
      "Connection dropped: socket connection error: Connection refused\n",
      "Connection dropped: socket connection error: Connection refused\n",
      "Connection dropped: socket connection error: Connection refused\n",
      "Connection dropped: socket connection error: Connection refused\n",
      "Connection dropped: socket connection error: Connection refused\n",
      "Connection dropped: socket connection error: Connection refused\n",
      "Connection dropped: socket connection error: Connection refused\n",
      "Connection dropped: socket connection error: Connection refused\n",
      "Connection dropped: socket connection error: Connection refused\n",
      "Connection dropped: socket connection error: Connection refused\n",
      "Connection dropped: socket connection error: Connection refused\n",
      "Connection dropped: socket connection error: Connection refused\n",
      "Connection dropped: socket connection error: Connection refused\n",
      "Connection dropped: socket connection error: Connection refused\n",
      "Connection dropped: socket connection error: Connection refused\n",
      "Connection dropped: socket connection error: Connection refused\n",
      "Connection dropped: socket connection error: Connection refused\n",
      "Connection dropped: socket connection error: Connection refused\n",
      "Connection dropped: socket connection error: Connection refused\n",
      "Connection dropped: socket connection error: Connection refused\n",
      "Connection dropped: socket connection error: Connection refused\n",
      "Connection dropped: socket connection error: Connection refused\n",
      "Connection dropped: socket connection error: Connection refused\n",
      "Connection dropped: socket connection error: Connection refused\n",
      "Connection dropped: socket connection error: Connection refused\n",
      "Connection dropped: socket connection error: Connection refused\n",
      "Connection dropped: socket connection error: Connection refused\n",
      "Connection dropped: socket connection error: Connection refused\n",
      "Connection dropped: socket connection error: Connection refused\n",
      "Connection dropped: socket connection error: Connection refused\n",
      "Connection dropped: socket connection error: Connection refused\n",
      "Connection dropped: socket connection error: Connection refused\n",
      "Connection dropped: socket connection error: Connection refused\n",
      "Connection dropped: socket connection error: Connection refused\n",
      "Connection dropped: socket connection error: Connection refused\n",
      "Connection dropped: socket connection error: Connection refused\n",
      "Connection dropped: socket connection error: Connection refused\n",
      "Connection dropped: socket connection error: Connection refused\n",
      "Connection dropped: socket connection error: Connection refused\n",
      "Connection dropped: socket connection error: Connection refused\n",
      "Connection dropped: socket connection error: Connection refused\n",
      "Connection dropped: socket connection error: Connection refused\n",
      "Connection dropped: socket connection error: Connection refused\n",
      "Connection dropped: socket connection error: Connection refused\n",
      "Connection dropped: socket connection error: Connection refused\n",
      "Connection dropped: socket connection error: Connection refused\n",
      "Connection dropped: socket connection error: Connection refused\n",
      "Connection dropped: socket connection error: Connection refused\n",
      "Connection dropped: socket connection error: Connection refused\n",
      "Connection dropped: socket connection error: Connection refused\n",
      "Connection dropped: socket connection error: Connection refused\n",
      "Connection dropped: socket connection error: Connection refused\n",
      "Connection dropped: socket connection error: Connection refused\n",
      "Connection dropped: socket connection error: Connection refused\n",
      "Connection dropped: socket connection error: Connection refused\n",
      "Connection dropped: socket connection error: Connection refused\n",
      "Connection dropped: socket connection error: Connection refused\n",
      "Connection dropped: socket connection error: Connection refused\n",
      "Connection dropped: socket connection error: Connection refused\n"
     ]
    }
   ],
   "source": [
    "u_kafka = connector.init_kafka()\n",
    "u_kafka.start_kafka()"
   ]
  },
  {
   "cell_type": "code",
   "execution_count": null,
   "metadata": {},
   "outputs": [],
   "source": [
    "print('hello')"
   ]
  },
  {
   "cell_type": "code",
   "execution_count": null,
   "metadata": {},
   "outputs": [],
   "source": []
  }
 ],
 "metadata": {
  "kernelspec": {
   "display_name": "Python 3",
   "language": "python",
   "name": "python3"
  },
  "language_info": {
   "codemirror_mode": {
    "name": "ipython",
    "version": 3
   },
   "file_extension": ".py",
   "mimetype": "text/x-python",
   "name": "python",
   "nbconvert_exporter": "python",
   "pygments_lexer": "ipython3",
   "version": "3.6.5"
  }
 },
 "nbformat": 4,
 "nbformat_minor": 2
}
