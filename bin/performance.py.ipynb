{
 "cells": [
  {
   "cell_type": "code",
   "execution_count": 1,
   "metadata": {},
   "outputs": [],
   "source": [
    "import sys\n",
    "import json\n",
    "import os\n",
    "from pprint import pprint\n",
    "from subprocess import call\n",
    "import subprocess\n",
    "from subprocess import call, Popen, PIPE, check_output, STDOUT, CalledProcessError\n",
    "import platform\n",
    "import time\n",
    "import shutil\n",
    "from collections import OrderedDict\n",
    "import datetime\n",
    "from kafka import KafkaConsumer, KafkaProducer, TopicPartition\n",
    "\n",
    "import matplotlib.pyplot as plt\n",
    "import pandas as pd"
   ]
  },
  {
   "cell_type": "markdown",
   "metadata": {},
   "source": [
    "<h1>Killing Leader Node</h1>"
   ]
  },
  {
   "cell_type": "code",
   "execution_count": 2,
   "metadata": {},
   "outputs": [],
   "source": [
    "# Generate dummy Data\n",
    "def generate_dummy_data(broker_port, topic, data_source):\n",
    "        call(f\"../deploy/kafka/bin/kafka-console-producer.sh < {data_source} --topic {topic} --broker-list localhost:{broker_port}\", shell=True)"
   ]
  },
  {
   "cell_type": "code",
   "execution_count": 3,
   "metadata": {},
   "outputs": [],
   "source": [
    "def plot(results, title, xlabel, ylabel):\n",
    "    results['index1'] = results.index\n",
    "    plt.scatter(results['index1'], results['time_taken'])\n",
    "    plt.plot(results['index1'], results['time_taken'])\n",
    "    max_val = results['time_taken'].max()\n",
    "    plt.title(title)\n",
    "    plt.xlabel(xlabel)\n",
    "    plt.ylabel(ylabel)\n",
    "    plt.show()"
   ]
  },
  {
   "cell_type": "markdown",
   "metadata": {},
   "source": [
    "<h2>Regular Kafka</h2>"
   ]
  },
  {
   "cell_type": "markdown",
   "metadata": {},
   "source": [
    "<h3>Killing a single leader node (ticktime=2000)</h3>"
   ]
  },
  {
   "cell_type": "code",
   "execution_count": 3,
   "metadata": {},
   "outputs": [],
   "source": [
    "def get_node_with_most_partitions(topic):\n",
    "    proc1 = subprocess.Popen(['../deploy/kafka/bin/kafka-topics.sh', '--describe', '--zookeeper', 'localhost:2181', '--topic', topic], stdout=subprocess.PIPE)\n",
    "\n",
    "    out, err = proc1.communicate()\n",
    "    values = out.decode(\"utf-8\").split(\" \")\n",
    "    leader_counts = dict()\n",
    "    for i, val in enumerate(values):\n",
    "        if 'Leader' in val:\n",
    "            leader_node = values[i+1].split('\\t')[0]\n",
    "            if leader_node not in leader_counts:\n",
    "                leader_counts[leader_node] = 0\n",
    "            leader_counts[leader_node] += 1\n",
    "    max_val = max(leader_counts, key=lambda k: leader_counts[k])\n",
    "    print(f\"{leader_counts}\" )\n",
    "    return int(max_val)"
   ]
  },
  {
   "cell_type": "code",
   "execution_count": 4,
   "metadata": {},
   "outputs": [],
   "source": [
    "def get_node_pid(node):\n",
    "    proc1 = subprocess.Popen(['ps', 'aux'], stdout=subprocess.PIPE)\n",
    "    proc2 = subprocess.Popen(['grep', f'output/2181_cluster/broker_2181_{node}.properties'], stdin=proc1.stdout,\n",
    "                             stdout=subprocess.PIPE, stderr=subprocess.PIPE)\n",
    "    proc3 = subprocess.Popen(['awk', '{print $2}'], stdin=proc2.stdout,\n",
    "                             stdout=subprocess.PIPE, stderr=subprocess.PIPE)\n",
    "\n",
    "    proc1.stdout.close()\n",
    "    proc2.stdout.close()\n",
    "    out, err = proc3.communicate()\n",
    "    values = out.decode(\"utf-8\").split(\" \")[0]\n",
    "    return int(values.split('\\n')[0])\n",
    "    "
   ]
  },
  {
   "cell_type": "code",
   "execution_count": 8,
   "metadata": {},
   "outputs": [],
   "source": [
    "def run_consumer_kill(topicName, pid, port):\n",
    "    consumer = KafkaConsumer(bootstrap_servers=f'localhost:{port}',\n",
    "                                 auto_offset_reset='earliest',\n",
    "                                 consumer_timeout_ms=10000000)\n",
    "    consumer.subscribe([topicName])\n",
    "    data_frame = pd.DataFrame()\n",
    "       \n",
    "    i = 0\n",
    "    start = time.time()\n",
    "    for message in consumer:\n",
    "        end = time.time()\n",
    "        data_frame.loc[i,'time_taken'] = end - start\n",
    "        if i == 50:\n",
    "            print(\"Killing node...\")\n",
    "            call(f\"kill -9 {pid}\", shell=True)\n",
    "        elif i == 100:\n",
    "            break\n",
    "        i += 1\n",
    "        start = time.time()\n",
    "        \n",
    "    return data_frame"
   ]
  },
  {
   "cell_type": "code",
   "execution_count": 6,
   "metadata": {},
   "outputs": [],
   "source": [
    "def test_kill_one(topic, destTopic='', fallback=-1):\n",
    "    node_to_port = OrderedDict([(0, 9092,), (10, 9095), (11, 9096)])\n",
    "    # Want to test worst case scenario -> so get node that is assigned the most partitions\n",
    "    max_leader_node = get_node_with_most_partitions(topic)\n",
    "    \n",
    "    # Get the PID of the node\n",
    "    pid = get_node_pid(max_leader_node)\n",
    "\n",
    "    # If the pid is not the correct port, then calling the same function will return a different number\n",
    "    if pid != get_node_pid(max_leader_node):\n",
    "        print(\"ERROR: Failed to get PID\")\n",
    "    else:\n",
    "        if fallback == -1:\n",
    "            # Get the port of any node other than the one we are killing\n",
    "            fallback = list(node_to_port.items())[(list(node_to_port.keys()).index(max_leader_node) + 1) % len(list(node_to_port.keys()))][1]\n",
    "        \n",
    "        print(f\"killing broker id {max_leader_node} | {pid}\")\n",
    "        print(f\"Falling back to port {fallback} after killing node\")\n",
    "        \n",
    "        # Spin up the consumer\n",
    "        if len(destTopic) != 0:\n",
    "            topic = destTopic\n",
    "        results_kill_one = run_consumer_kill(topic, pid, fallback)\n",
    "            \n",
    "        \n",
    "        return results_kill_one"
   ]
  },
  {
   "cell_type": "code",
   "execution_count": null,
   "metadata": {},
   "outputs": [],
   "source": [
    "results_kill_one_10 = test_kill_one('testTopic10')"
   ]
  },
  {
   "cell_type": "code",
   "execution_count": null,
   "metadata": {},
   "outputs": [],
   "source": [
    "results_kill_one_10"
   ]
  },
  {
   "cell_type": "code",
   "execution_count": 25,
   "metadata": {},
   "outputs": [
    {
     "name": "stdout",
     "output_type": "stream",
     "text": [
      "{'11': 34, '0': 33, '10': 33}\n",
      "killing broker id 11 | 6715\n",
      "using port 9092 to produce\n"
     ]
    }
   ],
   "source": [
    "results_kill_one_100 = test_kill_one('testTopic100')"
   ]
  },
  {
   "cell_type": "code",
   "execution_count": 26,
   "metadata": {},
   "outputs": [
    {
     "name": "stdout",
     "output_type": "stream",
     "text": [
      "time_taken    17.356029\n",
      "dtype: float64\n"
     ]
    }
   ],
   "source": [
    "print(results_kill_one_100.max())"
   ]
  },
  {
   "cell_type": "code",
   "execution_count": 33,
   "metadata": {},
   "outputs": [
    {
     "name": "stdout",
     "output_type": "stream",
     "text": [
      "{'none': 1, '11': 333, '0': 333, '10': 333}\n",
      "killing broker id 11 | 31432\n",
      "using port 9092 to produce\n"
     ]
    }
   ],
   "source": [
    "results_kill_one_1000 = test_kill_one('testTopic1000')"
   ]
  },
  {
   "cell_type": "code",
   "execution_count": 35,
   "metadata": {},
   "outputs": [
    {
     "data": {
      "text/plain": [
       "time_taken      4.997806\n",
       "index         100.000000\n",
       "dtype: float64"
      ]
     },
     "execution_count": 35,
     "metadata": {},
     "output_type": "execute_result"
    }
   ],
   "source": [
    "results_kill_one_1000.max()"
   ]
  },
  {
   "cell_type": "code",
   "execution_count": 34,
   "metadata": {},
   "outputs": [
    {
     "data": {
      "image/png": "[encoded data removed]",
      "text/plain": [
       "<Figure size 432x288 with 1 Axes>"
      ]
     },
     "metadata": {},
     "output_type": "display_data"
    }
   ],
   "source": [
    "# plot(results.loc[1:], 'Seconds to consume a message (1 Leader Node Killed)', 'Trial', 'Seconds')\n",
    "\n",
    "results_kill_one_10 = results_kill_one_10.loc[1:]\n",
    "results_kill_one_100 = results_kill_one_100.loc[1:]\n",
    "results_kill_one_1000 = results_kill_one_1000.loc[1:]\n",
    "results_kill_one_10['index'] = results_kill_one_10.index\n",
    "results_kill_one_100['index'] = results_kill_one_100.index\n",
    "results_kill_one_1000['index'] = results_kill_one_1000.index\n",
    "\n",
    "plt.scatter(results_kill_one_10['index'], results_kill_one_10['time_taken'])\n",
    "plt.plot(results_kill_one_10['index'], results_kill_one_10['time_taken'])\n",
    "\n",
    "plt.scatter(results_kill_one_100['index'], results_kill_one_100['time_taken'])\n",
    "plt.plot(results_kill_one_100['index'], results_kill_one_100['time_taken'])\n",
    "\n",
    "plt.scatter(results_kill_one_1000['index'], results_kill_one_1000['time_taken'])\n",
    "plt.plot(results_kill_one_1000['index'], results_kill_one_1000['time_taken'])\n",
    "\n",
    "plt.legend(['10', '100'])\n",
    "\n",
    "# max_val = results['time_taken'].max()\n",
    "plt.title('Seconds to consume a message at varying partitions')\n",
    "plt.xlabel('trials')\n",
    "plt.ylabel('seconds')\n",
    "plt.show()"
   ]
  },
  {
   "cell_type": "markdown",
   "metadata": {},
   "source": [
    "<p>There does <strong>NOT</strong> seem to be a relationship between consumer inactivty and partition size <p>"
   ]
  },
  {
   "cell_type": "markdown",
   "metadata": {},
   "source": [
    "<h3>Killing a single leader node (ticktime=500)</h3>"
   ]
  },
  {
   "cell_type": "code",
   "execution_count": 37,
   "metadata": {},
   "outputs": [
    {
     "name": "stdout",
     "output_type": "stream",
     "text": [
      "{'11': 10}\n",
      "killing broker id 11 | 20140\n",
      "using port 9092 to produce\n"
     ]
    }
   ],
   "source": [
    "results_kill_one_10_500 = test_kill_one('testTopic10')"
   ]
  },
  {
   "cell_type": "code",
   "execution_count": 46,
   "metadata": {},
   "outputs": [
    {
     "data": {
      "image/png": "[encoded data removed]",
      "text/plain": [
       "<Figure size 432x288 with 1 Axes>"
      ]
     },
     "metadata": {},
     "output_type": "display_data"
    }
   ],
   "source": [
    "results_kill_one_10_500 = results_kill_one_10_500.loc[1:]\n",
    "\n",
    "results_kill_one_10_500['index'] = results_kill_one_10_500.index\n",
    "\n",
    "plt.scatter(results_kill_one_10_500['index'], results_kill_one_10_500['time_taken'])\n",
    "plt.plot(results_kill_one_10_500['index'], results_kill_one_10_500['time_taken'])\n",
    "\n",
    "plt.legend(['10'])\n",
    "\n",
    "# max_val = results['time_taken'].max()\n",
    "plt.title('Seconds to consume a message at varying partitions (ticktime=500)')\n",
    "plt.xlabel('trials')\n",
    "plt.ylabel('seconds')\n",
    "plt.show()"
   ]
  },
  {
   "cell_type": "markdown",
   "metadata": {},
   "source": [
    "<p>Changing tick time does <strong>NOT</strong> affect duration of consumer inactivity</p>\n"
   ]
  },
  {
   "cell_type": "code",
   "execution_count": 43,
   "metadata": {},
   "outputs": [
    {
     "name": "stdout",
     "output_type": "stream",
     "text": [
      "{'11': 4, '0': 3, '10': 3}\n",
      "killing broker id 11 | 27264\n",
      "using port 9092 to produce\n"
     ]
    }
   ],
   "source": [
    "results_kill_one_10_50 = test_kill_one('testTopic10')"
   ]
  },
  {
   "cell_type": "code",
   "execution_count": 45,
   "metadata": {},
   "outputs": [
    {
     "data": {
      "image/png": "[encoded data removed]",
      "text/plain": [
       "<Figure size 432x288 with 1 Axes>"
      ]
     },
     "metadata": {},
     "output_type": "display_data"
    }
   ],
   "source": [
    "results_kill_one_10_50 = results_kill_one_10_50.loc[1:]\n",
    "\n",
    "results_kill_one_10_50['index'] = results_kill_one_10_50.index\n",
    "\n",
    "plt.scatter(results_kill_one_10_50['index'], results_kill_one_10_50['time_taken'])\n",
    "plt.plot(results_kill_one_10_50['index'], results_kill_one_10_50['time_taken'])\n",
    "\n",
    "plt.legend(['10'])\n",
    "\n",
    "# max_val = results['time_taken'].max()\n",
    "plt.title('Seconds to consume a message at varying partitions (ticktime=50)')\n",
    "plt.xlabel('trials')\n",
    "plt.ylabel('seconds')\n",
    "plt.show()"
   ]
  },
  {
   "cell_type": "code",
   "execution_count": 48,
   "metadata": {},
   "outputs": [
    {
     "name": "stdout",
     "output_type": "stream",
     "text": [
      "{'11': 4, '0': 3, '10': 3}\n",
      "killing broker id 11 | 1777\n",
      "using port 9092 to produce\n"
     ]
    }
   ],
   "source": [
    "results_kill_one_10_5000 = test_kill_one('testTopic10')"
   ]
  },
  {
   "cell_type": "code",
   "execution_count": 50,
   "metadata": {},
   "outputs": [
    {
     "data": {
      "image/png": "[encoded data removed]",
      "text/plain": [
       "<Figure size 432x288 with 1 Axes>"
      ]
     },
     "metadata": {},
     "output_type": "display_data"
    }
   ],
   "source": [
    "results_kill_one_10_5000 = results_kill_one_10_5000.loc[1:]\n",
    "\n",
    "results_kill_one_10_5000['index'] = results_kill_one_10_5000.index\n",
    "\n",
    "plt.scatter(results_kill_one_10_5000['index'], results_kill_one_10_5000['time_taken'])\n",
    "plt.plot(results_kill_one_10_5000['index'], results_kill_one_10_5000['time_taken'])\n",
    "\n",
    "plt.legend(['10'])\n",
    "\n",
    "# max_val = results['time_taken'].max()\n",
    "plt.title('Seconds to consume a message at varying partitions (ticktime=5000)')\n",
    "plt.xlabel('trials')\n",
    "plt.ylabel('seconds')\n",
    "plt.show()"
   ]
  },
  {
   "cell_type": "markdown",
   "metadata": {},
   "source": [
    "<h1>Dynamically adding Partitions</h1>"
   ]
  },
  {
   "cell_type": "code",
   "execution_count": 63,
   "metadata": {},
   "outputs": [],
   "source": [
    "def run_consumer_add_partitions(topicName, partitions, port):\n",
    "    consumer = KafkaConsumer(bootstrap_servers=f'localhost:{port}',\n",
    "                                 auto_offset_reset='earliest',\n",
    "                                 consumer_timeout_ms=10000000)\n",
    "    consumer.subscribe([topicName])\n",
    "    data_frame = pd.DataFrame()\n",
    "       \n",
    "    i = 0\n",
    "    start = time.time()\n",
    "    for message in consumer:\n",
    "        end = time.time()\n",
    "        data_frame.loc[i,'time_taken'] = end - start\n",
    "        if i == 50:\n",
    "            # add partitions\n",
    "            call(f\"../deploy/kafka/bin/kafka-topics.sh --zookeeper localhost:2181 --alter --topic {topicName} --partitions {partitions}\", shell=True)\n",
    "        elif i == 100:\n",
    "            break\n",
    "        i += 1\n",
    "        start = time.time()\n",
    "        \n",
    "    return data_frame"
   ]
  },
  {
   "cell_type": "code",
   "execution_count": 64,
   "metadata": {},
   "outputs": [],
   "source": [
    "def test_add_partitions(topic, partitions, port):\n",
    "    results = run_consumer_add_partitions(topic, partitions, port)\n",
    "    return results"
   ]
  },
  {
   "cell_type": "markdown",
   "metadata": {},
   "source": [
    "<h3>Adding a single partition</h3>"
   ]
  },
  {
   "cell_type": "code",
   "execution_count": 65,
   "metadata": {},
   "outputs": [],
   "source": [
    "results_add_one_partition = test_add_partitions('testTopic1000', 1001, 9092)"
   ]
  },
  {
   "cell_type": "code",
   "execution_count": 69,
   "metadata": {},
   "outputs": [],
   "source": [
    "results_add_ten_partitions = test_add_partitions('testTopic1000', 1010, 9092)"
   ]
  },
  {
   "cell_type": "code",
   "execution_count": 71,
   "metadata": {},
   "outputs": [],
   "source": [
    "results_add_thousand_partitions = test_add_partitions('testTopic1000', 1100, 9092)"
   ]
  },
  {
   "cell_type": "code",
   "execution_count": 73,
   "metadata": {},
   "outputs": [
    {
     "data": {
      "image/png": "[encoded data removed]",
      "text/plain": [
       "<Figure size 432x288 with 1 Axes>"
      ]
     },
     "metadata": {},
     "output_type": "display_data"
    }
   ],
   "source": [
    "results_add_one_partition = results_add_one_partition.loc[1:]\n",
    "results_add_ten_partitions = results_add_ten_partitions.loc[1:]\n",
    "results_add_thousand_partitions = results_add_thousand_partitions.loc[1:]\n",
    "\n",
    "results_add_one_partition['index'] = results_add_one_partition.index\n",
    "results_add_ten_partitions['index'] = results_add_ten_partitions.index\n",
    "results_add_thousand_partitions['index'] = results_add_thousand_partitions.index\n",
    "\n",
    "plt.scatter(results_add_one_partition['index'], results_add_one_partition['time_taken'])\n",
    "plt.plot(results_add_one_partition['index'], results_add_one_partition['time_taken'])\n",
    "\n",
    "plt.scatter(results_add_ten_partitions['index'], results_add_ten_partitions['time_taken'])\n",
    "plt.plot(results_add_ten_partitions['index'], results_add_ten_partitions['time_taken'])\n",
    "\n",
    "plt.scatter(results_add_thousand_partitions['index'], results_add_thousand_partitions['time_taken'])\n",
    "plt.plot(results_add_thousand_partitions['index'], results_add_thousand_partitions['time_taken'])\n",
    "\n",
    "plt.legend(['1', '10','100'])\n",
    "\n",
    "# max_val = results['time_taken'].max()\n",
    "plt.title('Seconds to Consume a Message (trial = 50)')\n",
    "plt.xlabel('trials')\n",
    "plt.ylabel('seconds')\n",
    "plt.show()"
   ]
  },
  {
   "cell_type": "markdown",
   "metadata": {},
   "source": [
    "<p>Adding partitions dynamically does not appear to cause any issues and consumer inactivity doesn't seem to be proportional to the number of partitions we are adding</p>"
   ]
  },
  {
   "cell_type": "markdown",
   "metadata": {},
   "source": [
    "<h1>Using uReplicator</h1>"
   ]
  },
  {
   "cell_type": "markdown",
   "metadata": {},
   "source": [
    "<h2>Measuring latency between inter cluster replication</h2>"
   ]
  },
  {
   "cell_type": "code",
   "execution_count": null,
   "metadata": {},
   "outputs": [],
   "source": [
    "u_results_kill_one_1000 = test_kill_one('testTopic1000', destTopic='testTopic1000_1', fallback=9094)"
   ]
  },
  {
   "cell_type": "code",
   "execution_count": 15,
   "metadata": {},
   "outputs": [
    {
     "data": {
      "text/html": [
       "<div>\n",
       "<style scoped>\n",
       "    .dataframe tbody tr th:only-of-type {\n",
       "        vertical-align: middle;\n",
       "    }\n",
       "\n",
       "    .dataframe tbody tr th {\n",
       "        vertical-align: top;\n",
       "    }\n",
       "\n",
       "    .dataframe thead th {\n",
       "        text-align: right;\n",
       "    }\n",
       "</style>\n",
       "<table border=\"1\" class=\"dataframe\">\n",
       "  <thead>\n",
       "    <tr style=\"text-align: right;\">\n",
       "      <th></th>\n",
       "      <th>time_taken</th>\n",
       "      <th>index</th>\n",
       "    </tr>\n",
       "  </thead>\n",
       "  <tbody>\n",
       "    <tr>\n",
       "      <th>count</th>\n",
       "      <td>100.000000</td>\n",
       "      <td>100.000000</td>\n",
       "    </tr>\n",
       "    <tr>\n",
       "      <th>mean</th>\n",
       "      <td>0.281303</td>\n",
       "      <td>50.500000</td>\n",
       "    </tr>\n",
       "    <tr>\n",
       "      <th>std</th>\n",
       "      <td>1.277005</td>\n",
       "      <td>29.011492</td>\n",
       "    </tr>\n",
       "    <tr>\n",
       "      <th>min</th>\n",
       "      <td>0.000018</td>\n",
       "      <td>1.000000</td>\n",
       "    </tr>\n",
       "    <tr>\n",
       "      <th>25%</th>\n",
       "      <td>0.000020</td>\n",
       "      <td>25.750000</td>\n",
       "    </tr>\n",
       "    <tr>\n",
       "      <th>50%</th>\n",
       "      <td>0.002590</td>\n",
       "      <td>50.500000</td>\n",
       "    </tr>\n",
       "    <tr>\n",
       "      <th>75%</th>\n",
       "      <td>0.070793</td>\n",
       "      <td>75.250000</td>\n",
       "    </tr>\n",
       "    <tr>\n",
       "      <th>max</th>\n",
       "      <td>11.541194</td>\n",
       "      <td>100.000000</td>\n",
       "    </tr>\n",
       "  </tbody>\n",
       "</table>\n",
       "</div>"
      ],
      "text/plain": [
       "       time_taken       index\n",
       "count  100.000000  100.000000\n",
       "mean     0.281303   50.500000\n",
       "std      1.277005   29.011492\n",
       "min      0.000018    1.000000\n",
       "25%      0.000020   25.750000\n",
       "50%      0.002590   50.500000\n",
       "75%      0.070793   75.250000\n",
       "max     11.541194  100.000000"
      ]
     },
     "execution_count": 15,
     "metadata": {},
     "output_type": "execute_result"
    }
   ],
   "source": [
    "u_results_kill_one_1000.describe()"
   ]
  },
  {
   "cell_type": "code",
   "execution_count": 13,
   "metadata": {},
   "outputs": [
    {
     "data": {
      "image/png": "[encoded data removed]",
      "text/plain": [
       "<Figure size 432x288 with 1 Axes>"
      ]
     },
     "metadata": {},
     "output_type": "display_data"
    }
   ],
   "source": [
    "u_results_kill_one_1000 = u_results_kill_one_1000.loc[1:]\n",
    "\n",
    "u_results_kill_one_1000['index'] = u_results_kill_one_1000.index\n",
    "\n",
    "plt.scatter(u_results_kill_one_1000['index'], u_results_kill_one_1000['time_taken'])\n",
    "plt.plot(u_results_kill_one_1000['index'], u_results_kill_one_1000['time_taken'])\n",
    "\n",
    "plt.legend(['1000'])\n",
    "\n",
    "\n",
    "plt.title('Seconds to consume a message at varying partitions')\n",
    "plt.xlabel('trials')\n",
    "plt.ylabel('seconds')\n",
    "plt.show()"
   ]
  },
  {
   "cell_type": "code",
   "execution_count": null,
   "metadata": {},
   "outputs": [],
   "source": []
  }
 ],
 "metadata": {
  "kernelspec": {
   "display_name": "Python 3",
   "language": "python",
   "name": "python3"
  },
  "language_info": {
   "codemirror_mode": {
    "name": "ipython",
    "version": 3
   },
   "file_extension": ".py",
   "mimetype": "text/x-python",
   "name": "python",
   "nbconvert_exporter": "python",
   "pygments_lexer": "ipython3",
   "version": "3.6.5"
  }
 },
 "nbformat": 4,
 "nbformat_minor": 2
}
