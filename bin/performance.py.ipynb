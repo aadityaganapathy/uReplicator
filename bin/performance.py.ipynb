{
 "cells": [
  {
   "cell_type": "code",
   "execution_count": 104,
   "metadata": {},
   "outputs": [],
   "source": [
    "import sys\n",
    "import json\n",
    "import os\n",
    "from pprint import pprint\n",
    "from subprocess import call\n",
    "import subprocess\n",
    "from subprocess import call, Popen, PIPE, check_output, STDOUT, CalledProcessError\n",
    "import platform\n",
    "import time\n",
    "import shutil\n",
    "from collections import OrderedDict\n",
    "import datetime\n",
    "\n",
    "import matplotlib.pyplot as plt\n",
    "import pandas as pd"
   ]
  },
  {
   "cell_type": "markdown",
   "metadata": {},
   "source": [
    "<h1>Killing Leader Node</h1>"
   ]
  },
  {
   "cell_type": "code",
   "execution_count": 47,
   "metadata": {},
   "outputs": [],
   "source": [
    "# Generate dummy Data\n",
    "def generate_dummy_data(broker_port, topic, data_source):\n",
    "        call(f\"../deploy/kafka/bin/kafka-console-producer.sh < {data_source} --topic {topic} --broker-list localhost:{broker_port}\", shell=True)"
   ]
  },
  {
   "cell_type": "markdown",
   "metadata": {},
   "source": [
    "<h2>Regular Kafka</h2>"
   ]
  },
  {
   "cell_type": "code",
   "execution_count": 82,
   "metadata": {},
   "outputs": [],
   "source": [
    "def run():\n",
    "    data_frame = pd.DataFrame()\n",
    "    for i in range(0,10):\n",
    "        start = time.time()\n",
    "        generate_dummy_data(9092, 'testTopic', 'text.txt')\n",
    "        end = time.time()\n",
    "        data_frame.loc[i,'time_taken'] = end - start\n",
    "        print(\".\", end=\" \")\n",
    "    return data_frame"
   ]
  },
  {
   "cell_type": "code",
   "execution_count": 83,
   "metadata": {},
   "outputs": [
    {
     "name": "stdout",
     "output_type": "stream",
     "text": [
      "...\n",
      "...\n",
      "...\n",
      "...\n",
      "...\n",
      "...\n",
      "...\n",
      "...\n",
      "...\n",
      "...\n",
      "Int64Index([0, 1, 2, 3, 4, 5, 6, 7, 8, 9], dtype='int64')\n"
     ]
    },
    {
     "data": {
      "image/png": "[encoded data removed]",
      "text/plain": [
       "<Figure size 432x288 with 1 Axes>"
      ]
     },
     "metadata": {},
     "output_type": "display_data"
    }
   ],
   "source": [
    "results = run()\n",
    "print(results.index)\n",
    "results['index1'] = results.index\n",
    "plt.scatter(results['index1'], results['time_taken'])\n",
    "plt.plot(results['index1'], results['time_taken'])\n",
    "max_val = results['time_taken'].max()\n",
    "plt.ylim(max_val - 1 ,max_val + 1 )\n",
    "plt.show()"
   ]
  },
  {
   "cell_type": "code",
   "execution_count": 166,
   "metadata": {},
   "outputs": [],
   "source": [
    "def kill():\n",
    "    proc1 = subprocess.Popen(['ps', 'aux'], stdout=subprocess.PIPE)\n",
    "    proc2 = subprocess.Popen(['grep', '../output/2181_cluster/broker_2181_0.properties'], stdin=proc1.stdout,\n",
    "                             stdout=subprocess.PIPE, stderr=subprocess.PIPE)\n",
    "\n",
    "    proc1.stdout.close()\n",
    "    out, err = proc2.communicate()\n",
    "    values = out.decode(\"utf-8\").split(\" \")\n",
    "    print(values)\n",
    "    return values"
   ]
  },
  {
   "cell_type": "code",
   "execution_count": 188,
   "metadata": {},
   "outputs": [],
   "source": [
    "def run2():\n",
    "    data_frame = pd.DataFrame()\n",
    "    port = 9096\n",
    "    for i in range(0,10):\n",
    "        if i == 2:\n",
    "            values = kill()\n",
    "            call(f\"kill -9 5203\", shell=True)\n",
    "            port = 9095\n",
    "        start = time.time()\n",
    "        generate_dummy_data(port, 'testTopic', 'text.txt')\n",
    "        end = time.time()\n",
    "        data_frame.loc[i,'time_taken'] = end - start\n",
    "        print(\".\", end=\" \")\n",
    "    return data_frame"
   ]
  },
  {
   "cell_type": "markdown",
   "metadata": {},
   "source": [
    "<h3>Producing</h3>"
   ]
  },
  {
   "cell_type": "code",
   "execution_count": 184,
   "metadata": {},
   "outputs": [
    {
     "name": "stdout",
     "output_type": "stream",
     "text": [
      "...\n",
      "...\n",
      "['nikhile+', '', '7428', '', '0.0', '', '0.0', '1017376', '1124', '?', '', '', '', '', '', '', '', 'S', '', '', '', '20:16', '', '', '0:00', 'grep', '../output/2181_cluster/broker_2181_0.properties\\n']\n",
      "...\n",
      "...\n",
      "...\n",
      "...\n",
      "...\n",
      "...\n",
      "...\n",
      "...\n"
     ]
    }
   ],
   "source": [
    "results = run2()"
   ]
  },
  {
   "cell_type": "code",
   "execution_count": 179,
   "metadata": {},
   "outputs": [
    {
     "name": "stdout",
     "output_type": "stream",
     "text": [
      "Int64Index([0, 1, 2, 3, 4, 5, 6, 7, 8, 9], dtype='int64')\n"
     ]
    },
    {
     "data": {
      "image/png": "[encoded data removed]",
      "text/plain": [
       "<Figure size 432x288 with 1 Axes>"
      ]
     },
     "metadata": {},
     "output_type": "display_data"
    }
   ],
   "source": [
    "results['index1'] = results.index\n",
    "plt.scatter(results['index1'], results['time_taken'])\n",
    "plt.plot(results['index1'], results['time_taken'])\n",
    "max_val = results['time_taken'].max()\n",
    "plt.ylim(0 ,max_val + 1 )\n",
    "plt.show()"
   ]
  },
  {
   "cell_type": "markdown",
   "metadata": {},
   "source": [
    "<p>Producer seems to be unaffected when killing the leader node.</p>"
   ]
  },
  {
   "cell_type": "markdown",
   "metadata": {},
   "source": [
    "<h3>Consuming</h3>"
   ]
  },
  {
   "cell_type": "code",
   "execution_count": 192,
   "metadata": {},
   "outputs": [],
   "source": [
    "def run_consumer():\n",
    "    consumer = KafkaConsumer(bootstrap_servers='localhost:9094',\n",
    "                                 auto_offset_reset='earliest',\n",
    "                                 consumer_timeout_ms=1000)\n",
    "    consumer.subscribe(['testTopic'])\n",
    "    data_frame = pd.DataFrame()\n",
    "    counter = 0\n",
    "    for message in consumer:\n",
    "        if counter > 9:\n",
    "            break\n",
    "        start = time.time()\n",
    "        print(f\"Recieved Message: {message.value}\")\n",
    "        end = time.time()\n",
    "        data_frame.loc[i,'time_taken'] = end - start\n",
    "        counter += 1\n",
    "        print(\".\", end=\" \")\n",
    "    return data_frame"
   ]
  },
  {
   "cell_type": "code",
   "execution_count": null,
   "metadata": {},
   "outputs": [],
   "source": []
  }
 ],
 "metadata": {
  "kernelspec": {
   "display_name": "Python 3",
   "language": "python",
   "name": "python3"
  },
  "language_info": {
   "codemirror_mode": {
    "name": "ipython",
    "version": 3
   },
   "file_extension": ".py",
   "mimetype": "text/x-python",
   "name": "python",
   "nbconvert_exporter": "python",
   "pygments_lexer": "ipython3",
   "version": "3.6.5"
  }
 },
 "nbformat": 4,
 "nbformat_minor": 2
}
